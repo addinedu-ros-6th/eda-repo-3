{
 "cells": [
  {
   "cell_type": "code",
   "execution_count": 2,
   "metadata": {},
   "outputs": [],
   "source": [
    "from selenium import webdriver\n",
    "from selenium.webdriver.chrome.service import Service\n",
    "from selenium.webdriver.common.by import By\n",
    "from selenium.webdriver.chrome.options import Options\n",
    "options = webdriver.ChromeOptions()"
   ]
  },
  {
   "cell_type": "code",
   "execution_count": 3,
   "metadata": {},
   "outputs": [
    {
     "name": "stdout",
     "output_type": "stream",
     "text": [
      "최대화\n"
     ]
    }
   ],
   "source": [
    "options = webdriver.ChromeOptions()\n",
    "\n",
    "driver = webdriver.Chrome(service=Service(\"/home/jh/dev_ws/eda/driver/chromedriver\"))\n",
    "driver.get(\"https://www.koreabaseball.com/Record/Player/Runner/Basic.aspx\") #선수 기록실 - 주루 기록 2024\n",
    "\n",
    "print('최대화')\n",
    "driver.maximize_window()"
   ]
  },
  {
   "cell_type": "code",
   "execution_count": 71,
   "metadata": {},
   "outputs": [],
   "source": [
    "import mysql.connector\n",
    "\n",
    "remote = mysql.connector.connect(\n",
    "    host = \"database-1.cnusogkkql3j.us-east-2.rds.amazonaws.com \",\n",
    "    port = 3306,\n",
    "    user = \"EDA_project\",\n",
    "    password = \"1234\",\n",
    "\n",
    "    database = \"KBO\"\n",
    ")\n",
    "kbo_base = remote.cursor(buffered=True)\n"
   ]
  },
  {
   "cell_type": "code",
   "execution_count": null,
   "metadata": {},
   "outputs": [],
   "source": [
    "from bs4 import BeautifulSoup\n",
    "from urllib.request import urlopen\n",
    "from urllib.request import Request\n",
    "\n",
    "page_source = driver.page_source\n",
    "\n",
    "soup = BeautifulSoup(page_source, \"html.parser\")\n",
    "print(soup.prettify())\n"
   ]
  },
  {
   "cell_type": "markdown",
   "metadata": {},
   "source": [
    "### 주루기록 확인 및 스플릿"
   ]
  },
  {
   "cell_type": "code",
   "execution_count": null,
   "metadata": {},
   "outputs": [],
   "source": [
    "runner_rcd_main_class = soup.find(\"table\", \"tData01 tt\")\n",
    "runner_rcd_sub_class = runner_rcd_main_class.find(\"tbody\")\n",
    "runner_rcd_list = runner_rcd_sub_class.find_all(\"tr\")\n",
    "player_rcd_runner_raw = runner_rcd_list[0].getText()\n",
    "runner_rcd_runner = player_rcd_runner_raw.split(\"\\n\")\n",
    "runner_rcd_runner = runner_rcd_runner[2:-1]\n",
    "runner_rcd_runner"
   ]
  },
  {
   "cell_type": "markdown",
   "metadata": {},
   "source": [
    "### 페이지 별 기록 확인"
   ]
  },
  {
   "cell_type": "code",
   "execution_count": null,
   "metadata": {},
   "outputs": [],
   "source": [
    "runner_rcd_main_class = soup.find(\"table\", \"tData01 tt\")\n",
    "runner_rcd_sub_class = runner_rcd_main_class.find(\"tbody\")\n",
    "runner_rcd_list = runner_rcd_sub_class.find_all(\"tr\")\n",
    "\n",
    "for idx in range(len(runner_rcd_list)):\n",
    "    player_rcd_runner_raw = runner_rcd_list[idx].getText()\n",
    "    runner_rcd_runner = player_rcd_runner_raw.split(\"\\n\")\n",
    "    print(runner_rcd_runner)\n"
   ]
  },
  {
   "cell_type": "markdown",
   "metadata": {},
   "source": [
    "### 스크롤 끝까지 내리기"
   ]
  },
  {
   "cell_type": "code",
   "execution_count": null,
   "metadata": {},
   "outputs": [],
   "source": [
    "last_height = driver.execute_script(\"return document.body.scrollHeight\")\n",
    "driver.execute_script(\"window.scrollTo(0, document.body.scrollHeight);\")"
   ]
  },
  {
   "cell_type": "markdown",
   "metadata": {},
   "source": [
    "### 페이지 넘기기"
   ]
  },
  {
   "cell_type": "code",
   "execution_count": null,
   "metadata": {},
   "outputs": [],
   "source": [
    "page_list_main_class = driver.find_element(By.CLASS_NAME,\"record_result\")\n",
    "page_list_sub_class = page_list_main_class.find_element(By.CLASS_NAME, \"paging\")\n",
    "page_list = page_list_sub_class.find_elements(By.TAG_NAME,\"a\")\n",
    "page_list[1].click()\n"
   ]
  },
  {
   "cell_type": "code",
   "execution_count": null,
   "metadata": {},
   "outputs": [],
   "source": [
    "len(page_list)"
   ]
  },
  {
   "cell_type": "code",
   "execution_count": null,
   "metadata": {},
   "outputs": [],
   "source": [
    "from selenium.webdriver import ActionChains\n",
    "action = ActionChains(driver)\n",
    "\n",
    "name = []\n",
    "team = []\n",
    "g = []\n",
    "sba = []\n",
    "sb = []\n",
    "cs = []\n",
    "sbper = []\n",
    "oob = []\n",
    "pko = []\n",
    "\n",
    "runner_rcd_main_class = soup.find(\"table\", \"tData01 tt\")\n",
    "runner_rcd_sub_class = runner_rcd_main_class.find(\"tbody\")\n",
    "runner_rcd_list = runner_rcd_sub_class.find_all(\"tr\")\n",
    "\n",
    "\n",
    "for idx in range(len(runner_rcd_list)):\n",
    "    player_rcd_runner_raw = runner_rcd_list[idx].getText()\n",
    "    player_rcd_runner = player_rcd_runner_raw.split(\"\\n\")\n",
    "    name.append(player_rcd_runner[2])\n",
    "    team.append(player_rcd_runner[3])\n",
    "    g.append(player_rcd_runner[4])\n",
    "    sba.append(player_rcd_runner[5])\n",
    "    sb.append(player_rcd_runner[6])\n",
    "    cs.append(player_rcd_runner[7])\n",
    "    sbper.append(player_rcd_runner[8])\n",
    "    oob.append(player_rcd_runner[9])\n",
    "    pko.append(player_rcd_runner[10])"
   ]
  },
  {
   "cell_type": "code",
   "execution_count": null,
   "metadata": {},
   "outputs": [],
   "source": [
    "import pandas as pd\n",
    "df = pd.DataFrame({\"name\": name,\"TEAM\":team, \"G\":g,\"SBA\" : sba,\"SB\":sb,\"CS\":cs,\"SB%\":sbper,\"OOB\":oob,\"PKO\":pko})\n",
    "df"
   ]
  },
  {
   "cell_type": "markdown",
   "metadata": {},
   "source": [
    "### 화살표 데이터값 확인"
   ]
  },
  {
   "cell_type": "code",
   "execution_count": null,
   "metadata": {},
   "outputs": [],
   "source": [
    "page_source = driver.page_source\n",
    "soup = BeautifulSoup(page_source, \"html.parser\")\n",
    "page_soup_main_class = soup.find(\"div\",\"record_result\")\n",
    "page_soup_sub_class = page_soup_main_class.find(\"div\",\"paging\")\n",
    "page_number_list = page_soup_sub_class.find_all(\"a\")\n",
    "page_number_list[len(page_number_list)-2].getText()"
   ]
  },
  {
   "cell_type": "markdown",
   "metadata": {},
   "source": [
    "### 2022년 데이터 수집"
   ]
  },
  {
   "cell_type": "code",
   "execution_count": null,
   "metadata": {},
   "outputs": [],
   "source": [
    "from selenium.webdriver import ActionChains\n",
    "import time\n",
    "import pandas as pd\n",
    "from bs4 import BeautifulSoup\n",
    "from urllib.request import urlopen\n",
    "from urllib.request import Request\n",
    "\n",
    "action = ActionChains(driver)\n",
    "page_number = True\n",
    "page_icon_shift = 0\n",
    "first_page = 2\n",
    "name_22 = []\n",
    "team_22 = []\n",
    "g_22 = []\n",
    "sba_22 = []\n",
    "sb_22 = []\n",
    "cs_22 = []\n",
    "sbper_22 = []\n",
    "oob_22 = []\n",
    "pko_22 = []\n",
    "\n",
    "\n",
    "\n",
    "\n",
    "while page_number == True:\n",
    "    page_source = driver.page_source\n",
    "    soup = BeautifulSoup(page_source, \"html.parser\")  \n",
    "\n",
    "    page_list_main_class = driver.find_element(By.CLASS_NAME,\"record_result\")\n",
    "    page_list_sub_class = page_list_main_class.find_element(By.CLASS_NAME, \"paging\")\n",
    "    page_list = page_list_sub_class.find_elements(By.TAG_NAME,\"a\")\n",
    "\n",
    "\n",
    "    page_soup_main_class = soup.find(\"div\",\"record_result\")\n",
    "    page_soup_sub_class = page_soup_main_class.find(\"div\",\"paging\")\n",
    "    page_number_list = page_soup_sub_class.find_all(\"a\")\n",
    "\n",
    "    page_number_tmp = page_number_list[len(page_number_list)-2].getText()\n",
    "    if page_number_tmp == '':\n",
    "        page_offset = 1\n",
    "    else:\n",
    "        page_offset = 0\n",
    "\n",
    "    for page_idx in range(first_page,len(page_list)-page_offset):\n",
    "        last_height = driver.execute_script(\"return document.body.scrollHeight\")\n",
    "        driver.execute_script(\"window.scrollTo(0, document.body.scrollHeight);\")\n",
    "\n",
    "        page_source = driver.page_source\n",
    "        soup = BeautifulSoup(page_source, \"html.parser\")\n",
    "    \n",
    "        runner_rcd_main_class = soup.find(\"table\", \"tData01 tt\")\n",
    "        runner_rcd_sub_class = runner_rcd_main_class.find(\"tbody\")\n",
    "        runner_rcd_list = runner_rcd_sub_class.find_all(\"tr\")\n",
    "\n",
    "        for player_idx in range(len(runner_rcd_list)):\n",
    "\n",
    "\n",
    "            player_rcd_runner_raw = runner_rcd_list[player_idx].getText()\n",
    "            player_rcd_runner = player_rcd_runner_raw.split(\"\\n\")\n",
    "            name_22.append(player_rcd_runner[2])\n",
    "            team_22.append(player_rcd_runner[3])\n",
    "            g_22.append(player_rcd_runner[4])\n",
    "            sba_22.append(player_rcd_runner[5])\n",
    "            sb_22.append(player_rcd_runner[6])\n",
    "            cs_22.append(player_rcd_runner[7])\n",
    "            sbper_22.append(player_rcd_runner[8])\n",
    "            oob_22.append(player_rcd_runner[9])\n",
    "            pko_22.append(player_rcd_runner[10])\n",
    "            time.sleep(0.1)\n",
    "            print(player_rcd_runner)\n",
    "\n",
    "        page_list_main_class = driver.find_element(By.CLASS_NAME,\"record_result\")\n",
    "        page_list_sub_class = page_list_main_class.find_element(By.CLASS_NAME, \"paging\")\n",
    "        page_list = page_list_sub_class.find_elements(By.TAG_NAME,\"a\")\n",
    "        first_page,len(page_list)\n",
    "        page_list[page_idx].click()  # 페이지 넘기기\n",
    "        \n",
    "\n",
    "    \n",
    "        time.sleep(0.5)\n",
    "    first_page = 3\n",
    "\n",
    "\n",
    "    print(page_number_tmp)\n",
    "    if page_number_tmp == '':\n",
    "        page_number = True\n",
    "    else :\n",
    "        page_number = False\n"
   ]
  },
  {
   "cell_type": "markdown",
   "metadata": {},
   "source": [
    "### 2022 데이터 확인"
   ]
  },
  {
   "cell_type": "code",
   "execution_count": null,
   "metadata": {},
   "outputs": [],
   "source": [
    "import pandas as pd\n",
    "df_2022 = pd.DataFrame({\"name\": name_22,\"TEAM\":team_22, \"G\":g_22,\"SBA\" : sba_22,\"SB\":sb_22,\"CS\":cs_22,\"SB%\":sbper_22,\"OOB\":oob_22,\"PKO\":pko_22})\n",
    "df_2022"
   ]
  },
  {
   "cell_type": "markdown",
   "metadata": {},
   "source": [
    "### 2022 '-' 데이터 0.0으로 변경"
   ]
  },
  {
   "cell_type": "code",
   "execution_count": null,
   "metadata": {},
   "outputs": [],
   "source": [
    "for idx in range(len(sbper_22)):\n",
    "    if sbper_22[idx] == '-':\n",
    "        sbper_22[idx] = float(0.0)\n",
    "df_2022 = pd.DataFrame({\"name\": name_22,\"TEAM\":team_22, \"G\":g_22,\"SBA\" : sba_22,\"SB\":sb_22,\"CS\":cs_22,\"SB%\":sbper_22,\"OOB\":oob_22,\"PKO\":pko_22})\n",
    "df_2022"
   ]
  },
  {
   "cell_type": "markdown",
   "metadata": {},
   "source": [
    "### 2023년 데이터 수집"
   ]
  },
  {
   "cell_type": "code",
   "execution_count": null,
   "metadata": {},
   "outputs": [],
   "source": [
    "from selenium.webdriver import ActionChains\n",
    "import time\n",
    "import pandas as pd\n",
    "from bs4 import BeautifulSoup\n",
    "from urllib.request import urlopen\n",
    "from urllib.request import Request\n",
    "\n",
    "action = ActionChains(driver)\n",
    "page_number = True\n",
    "page_icon_shift = 0\n",
    "first_page = 2\n",
    "name_23 = []\n",
    "team_23 = []\n",
    "g_23 = []\n",
    "sba_23 = []\n",
    "sb_23 = []\n",
    "cs_23 = []\n",
    "sbper_23 = []\n",
    "oob_23 = []\n",
    "pko_23 = []\n",
    "\n",
    "\n",
    "\n",
    "\n",
    "while page_number == True:\n",
    "    page_source = driver.page_source\n",
    "    soup = BeautifulSoup(page_source, \"html.parser\")  \n",
    "\n",
    "    page_list_main_class = driver.find_element(By.CLASS_NAME,\"record_result\")\n",
    "    page_list_sub_class = page_list_main_class.find_element(By.CLASS_NAME, \"paging\")\n",
    "    page_list = page_list_sub_class.find_elements(By.TAG_NAME,\"a\")\n",
    "\n",
    "\n",
    "    page_soup_main_class = soup.find(\"div\",\"record_result\")\n",
    "    page_soup_sub_class = page_soup_main_class.find(\"div\",\"paging\")\n",
    "    page_number_list = page_soup_sub_class.find_all(\"a\")\n",
    "\n",
    "    page_number_tmp = page_number_list[len(page_number_list)-2].getText()\n",
    "    if page_number_tmp == '':\n",
    "        page_offset = 1\n",
    "    else:\n",
    "        page_offset = 0\n",
    "\n",
    "    for page_idx in range(first_page,len(page_list)-page_offset):\n",
    "        last_height = driver.execute_script(\"return document.body.scrollHeight\")\n",
    "        driver.execute_script(\"window.scrollTo(0, document.body.scrollHeight);\")\n",
    "\n",
    "        page_source = driver.page_source\n",
    "        soup = BeautifulSoup(page_source, \"html.parser\")\n",
    "    \n",
    "        runner_rcd_main_class = soup.find(\"table\", \"tData01 tt\")\n",
    "        runner_rcd_sub_class = runner_rcd_main_class.find(\"tbody\")\n",
    "        runner_rcd_list = runner_rcd_sub_class.find_all(\"tr\")\n",
    "\n",
    "        for player_idx in range(len(runner_rcd_list)):\n",
    "\n",
    "\n",
    "            player_rcd_runner_raw = runner_rcd_list[player_idx].getText()\n",
    "            player_rcd_runner = player_rcd_runner_raw.split(\"\\n\")\n",
    "            name_23.append(player_rcd_runner[2])\n",
    "            team_23.append(player_rcd_runner[3])\n",
    "            g_23.append(player_rcd_runner[4])\n",
    "            sba_23.append(player_rcd_runner[5])\n",
    "            sb_23.append(player_rcd_runner[6])\n",
    "            cs_23.append(player_rcd_runner[7])\n",
    "            sbper_23.append(player_rcd_runner[8])\n",
    "            oob_23.append(player_rcd_runner[9])\n",
    "            pko_23.append(player_rcd_runner[10])\n",
    "            time.sleep(0.1)\n",
    "            print(player_rcd_runner)\n",
    "\n",
    "        page_list_main_class = driver.find_element(By.CLASS_NAME,\"record_result\")\n",
    "        page_list_sub_class = page_list_main_class.find_element(By.CLASS_NAME, \"paging\")\n",
    "        page_list = page_list_sub_class.find_elements(By.TAG_NAME,\"a\")\n",
    "        first_page,len(page_list)\n",
    "        page_list[page_idx].click()  # 페이지 넘기기\n",
    "        \n",
    "\n",
    "    \n",
    "        time.sleep(0.5)\n",
    "    first_page = 3\n",
    "\n",
    "\n",
    "    print(page_number_tmp)\n",
    "    if page_number_tmp == '':\n",
    "        page_number = True\n",
    "    else :\n",
    "        page_number = False\n"
   ]
  },
  {
   "cell_type": "markdown",
   "metadata": {},
   "source": [
    "### 2023년 데이터, '-' 데이터 0.0으로 변경"
   ]
  },
  {
   "cell_type": "code",
   "execution_count": null,
   "metadata": {},
   "outputs": [],
   "source": [
    "for idx in range(len(sbper_23)):\n",
    "    if sbper_23[idx] == '-':\n",
    "        sbper_23[idx] = float(0.0)\n",
    "df_2023 = pd.DataFrame({\"name\": name_23,\"TEAM\":team_23, \"G\":g_23,\"SBA\" : sba_23,\"SB\":sb_23,\"CS\":cs_23,\"SB%\":sbper_23,\"OOB\":oob_23,\"PKO\":pko_23})\n",
    "df_2023"
   ]
  },
  {
   "cell_type": "markdown",
   "metadata": {},
   "source": [
    "### 2024년 데이터 수집"
   ]
  },
  {
   "cell_type": "code",
   "execution_count": null,
   "metadata": {},
   "outputs": [],
   "source": [
    "from selenium.webdriver import ActionChains\n",
    "import time\n",
    "import pandas as pd\n",
    "from bs4 import BeautifulSoup\n",
    "from urllib.request import urlopen\n",
    "from urllib.request import Request\n",
    "\n",
    "action = ActionChains(driver)\n",
    "page_number = True\n",
    "page_icon_shift = 0\n",
    "first_page = 2\n",
    "name_24 = []\n",
    "team_24 = []\n",
    "g_24 = []\n",
    "sba_24 = []\n",
    "sb_24 = []\n",
    "cs_24 = []\n",
    "sbper_24 = []\n",
    "oob_24 = []\n",
    "pko_24 = []\n",
    "\n",
    "\n",
    "\n",
    "\n",
    "while page_number == True:\n",
    "    page_source = driver.page_source\n",
    "    soup = BeautifulSoup(page_source, \"html.parser\")  \n",
    "\n",
    "    page_list_main_class = driver.find_element(By.CLASS_NAME,\"record_result\")\n",
    "    page_list_sub_class = page_list_main_class.find_element(By.CLASS_NAME, \"paging\")\n",
    "    page_list = page_list_sub_class.find_elements(By.TAG_NAME,\"a\")\n",
    "\n",
    "\n",
    "    page_soup_main_class = soup.find(\"div\",\"record_result\")\n",
    "    page_soup_sub_class = page_soup_main_class.find(\"div\",\"paging\")\n",
    "    page_number_list = page_soup_sub_class.find_all(\"a\")\n",
    "\n",
    "    page_number_tmp = page_number_list[len(page_number_list)-2].getText()\n",
    "    if page_number_tmp == '':\n",
    "        page_offset = 1\n",
    "    else:\n",
    "        page_offset = 0\n",
    "\n",
    "    for page_idx in range(first_page,len(page_list)-page_offset):\n",
    "        last_height = driver.execute_script(\"return document.body.scrollHeight\")\n",
    "        driver.execute_script(\"window.scrollTo(0, document.body.scrollHeight);\")\n",
    "\n",
    "        page_source = driver.page_source\n",
    "        soup = BeautifulSoup(page_source, \"html.parser\")\n",
    "    \n",
    "        runner_rcd_main_class = soup.find(\"table\", \"tData01 tt\")\n",
    "        runner_rcd_sub_class = runner_rcd_main_class.find(\"tbody\")\n",
    "        runner_rcd_list = runner_rcd_sub_class.find_all(\"tr\")\n",
    "\n",
    "        for player_idx in range(len(runner_rcd_list)):\n",
    "\n",
    "\n",
    "            player_rcd_runner_raw = runner_rcd_list[player_idx].getText()\n",
    "            player_rcd_runner = player_rcd_runner_raw.split(\"\\n\")\n",
    "            name_24.append(player_rcd_runner[2])\n",
    "            team_24.append(player_rcd_runner[3])\n",
    "            g_24.append(player_rcd_runner[4])\n",
    "            sba_24.append(player_rcd_runner[5])\n",
    "            sb_24.append(player_rcd_runner[6])\n",
    "            cs_24.append(player_rcd_runner[7])\n",
    "            sbper_24.append(player_rcd_runner[8])\n",
    "            oob_24.append(player_rcd_runner[9])\n",
    "            pko_24.append(player_rcd_runner[10])\n",
    "            time.sleep(0.1)\n",
    "            print(player_rcd_runner)\n",
    "\n",
    "        page_list_main_class = driver.find_element(By.CLASS_NAME,\"record_result\")\n",
    "        page_list_sub_class = page_list_main_class.find_element(By.CLASS_NAME, \"paging\")\n",
    "        page_list = page_list_sub_class.find_elements(By.TAG_NAME,\"a\")\n",
    "        first_page,len(page_list)\n",
    "        page_list[page_idx].click()  # 페이지 넘기기\n",
    "        \n",
    "\n",
    "    \n",
    "        time.sleep(0.5)\n",
    "    first_page = 3\n",
    "\n",
    "\n",
    "    print(page_number_tmp)\n",
    "    if page_number_tmp == '':\n",
    "        page_number = True\n",
    "    else :\n",
    "        page_number = False"
   ]
  },
  {
   "cell_type": "markdown",
   "metadata": {},
   "source": [
    "### 2024년 데이터, '-' 데이터 0.0으로 변경"
   ]
  },
  {
   "cell_type": "code",
   "execution_count": null,
   "metadata": {},
   "outputs": [],
   "source": [
    "for idx in range(len(sbper_24)):\n",
    "    if sbper_24[idx] == '-':\n",
    "        sbper_24[idx] = float(0.0)\n",
    "df_2024 = pd.DataFrame({\"name\": name_24,\"TEAM\":team_24, \"G\":g_24,\"SBA\" : sba_24,\"SB\":sb_24,\"CS\":cs_24,\"SB%\":sbper_24,\"OOB\":oob_24,\"PKO\":pko_24})\n",
    "df_2024"
   ]
  },
  {
   "cell_type": "markdown",
   "metadata": {},
   "source": [
    "### 테이블 생성"
   ]
  },
  {
   "cell_type": "code",
   "execution_count": null,
   "metadata": {},
   "outputs": [],
   "source": [
    "sql = ('''create table 기록실_도루 (year int ,name varchar(8), team varchar(8), G int, SBA int, SB int, CS int, SBper float, OOB int, PKO int);''')\n",
    "kbo_base.execute(sql)\n"
   ]
  },
  {
   "cell_type": "markdown",
   "metadata": {},
   "source": [
    "### 2022년 Database(KBO) - TABLE 기록실_도루에 데이터 삽입"
   ]
  },
  {
   "cell_type": "code",
   "execution_count": null,
   "metadata": {},
   "outputs": [],
   "source": [
    "sql = ('''INSERT INTO 기록실_도루 values (2022,%s, %s, %s, %s, %s, %s, %s, %s, %s)''')\n",
    "\n",
    "for idx, row in df_2022.iterrows():\n",
    "    kbo_base.execute(sql, tuple(row))\n",
    "    print(tuple(row))\n",
    "remote.commit()\n",
    "\n"
   ]
  },
  {
   "cell_type": "markdown",
   "metadata": {},
   "source": [
    "### 2023년 Database(KBO) - TABLE 기록실_도루에 데이터 삽입"
   ]
  },
  {
   "cell_type": "code",
   "execution_count": null,
   "metadata": {},
   "outputs": [],
   "source": [
    "sql = ('''INSERT INTO 기록실_도루 values (2023, %s, %s, %s, %s, %s, %s, %s, %s, %s)''')\n",
    "\n",
    "for idx, row in df_2023.iterrows():\n",
    "    kbo_base.execute(sql, tuple(row))\n",
    "    print(tuple(row))\n",
    "remote.commit()\n",
    "\n"
   ]
  },
  {
   "cell_type": "markdown",
   "metadata": {},
   "source": [
    "### 2024년 Database(KBO) - TABLE 기록실_도루에 데이터 삽입"
   ]
  },
  {
   "cell_type": "code",
   "execution_count": null,
   "metadata": {},
   "outputs": [],
   "source": [
    "sql = ('''INSERT INTO 기록실_도루 values (2024, %s, %s, %s, %s, %s, %s, %s, %s, %s)''')\n",
    "\n",
    "for idx, row in df_2024.iterrows():\n",
    "    kbo_base.execute(sql, tuple(row))\n",
    "    print(tuple(row))\n",
    "remote.commit()"
   ]
  }
 ],
 "metadata": {
  "kernelspec": {
   "display_name": "eda_venv",
   "language": "python",
   "name": "python3"
  },
  "language_info": {
   "codemirror_mode": {
    "name": "ipython",
    "version": 3
   },
   "file_extension": ".py",
   "mimetype": "text/x-python",
   "name": "python",
   "nbconvert_exporter": "python",
   "pygments_lexer": "ipython3",
   "version": "3.10.12"
  }
 },
 "nbformat": 4,
 "nbformat_minor": 2
}
