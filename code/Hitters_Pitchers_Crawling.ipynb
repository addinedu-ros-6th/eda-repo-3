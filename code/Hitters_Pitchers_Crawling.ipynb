{
 "cells": [
  {
   "cell_type": "markdown",
   "metadata": {},
   "source": [
    "# 기록실 - 선수기록 - 타자"
   ]
  },
  {
   "cell_type": "markdown",
   "metadata": {},
   "source": [
    "### 당시 셀레니움과 BS4를 사용하여 웹 크롤링 당시에는 원활하게 동작하였으나 보안으로 인해서인지 주소가 바뀌는 이슈가 있어 이전에 실행결과를 올려드립니다."
   ]
  },
  {
   "cell_type": "code",
   "execution_count": 6,
   "metadata": {},
   "outputs": [],
   "source": [
    "from selenium import webdriver\n",
    "from selenium.webdriver.chrome.service import Service\n",
    "from selenium.webdriver.common.by import By\n",
    "from selenium.webdriver.common.keys import Keys\n",
    "from selenium.webdriver import ActionChains\n",
    "import time\n",
    "import re\n",
    "\n",
    "import pandas as pd\n",
    "import numpy as np\n",
    "import matplotlib.pyplot as plt\n",
    "import seaborn as sns\n",
    "import koreanize_matplotlib"
   ]
  },
  {
   "cell_type": "code",
   "execution_count": null,
   "metadata": {},
   "outputs": [],
   "source": [
    "driver = webdriver.Chrome(service=Service(\"/home/sh/dev_ws/driver/chromedriver\"))\n",
    "driver.get(\"https://www.koreabaseball.com/Record/Team/Hitter/Basic1.aspx\")\n",
    "driver.implicitly_wait(10)\n",
    "\n",
    "driver.maximize_window() #화면 크게"
   ]
  },
  {
   "cell_type": "code",
   "execution_count": 265,
   "metadata": {},
   "outputs": [],
   "source": [
    "from bs4 import BeautifulSoup\n",
    "from urllib.request import urlopen\n",
    "from urllib.request import Request\n",
    "\n",
    "page_source = driver.page_source\n",
    "soup = BeautifulSoup(page_source, \"html.parser\")"
   ]
  },
  {
   "cell_type": "markdown",
   "metadata": {},
   "source": [
    "컬럼 확인"
   ]
  },
  {
   "cell_type": "code",
   "execution_count": null,
   "metadata": {},
   "outputs": [],
   "source": [
    "soup.find('colgroup').find_all('col')"
   ]
  },
  {
   "cell_type": "code",
   "execution_count": 134,
   "metadata": {},
   "outputs": [],
   "source": [
    "cols = soup.find('colgroup').find_all('col')"
   ]
  },
  {
   "cell_type": "markdown",
   "metadata": {},
   "source": [
    "list 확인"
   ]
  },
  {
   "cell_type": "code",
   "execution_count": 267,
   "metadata": {},
   "outputs": [
    {
     "data": {
      "text/plain": [
       "[<tr>\n",
       " <td>1</td>\n",
       " <td>KIA</td>\n",
       " <td class=\"asc\" data-id=\"HRA_RT\">0.294</td>\n",
       " <td data-id=\"GAME_CN\">81</td>\n",
       " <td data-id=\"PA_CN\">3301</td>\n",
       " <td data-id=\"AB_CN\">2904</td>\n",
       " <td data-id=\"RUN_CN\">474</td>\n",
       " <td data-id=\"HIT_CN\">855</td>\n",
       " <td data-id=\"H2_CN\">143</td>\n",
       " <td data-id=\"H3_CN\">16</td>\n",
       " <td data-id=\"HR_CN\">92</td>\n",
       " <td data-id=\"TB_CN\">1306</td>\n",
       " <td data-id=\"RBI_CN\">449</td>\n",
       " <td data-id=\"SH_CN\">21</td>\n",
       " <td data-id=\"SF_CN\">20</td>\n",
       " </tr>,\n",
       " <tr>\n",
       " <td>2</td>\n",
       " <td>롯데</td>\n",
       " <td class=\"asc\" data-id=\"HRA_RT\">0.284</td>\n",
       " <td data-id=\"GAME_CN\">78</td>\n",
       " <td data-id=\"PA_CN\">3090</td>\n",
       " <td data-id=\"AB_CN\">2756</td>\n",
       " <td data-id=\"RUN_CN\">432</td>\n",
       " <td data-id=\"HIT_CN\">782</td>\n",
       " <td data-id=\"H2_CN\">155</td>\n",
       " <td data-id=\"H3_CN\">25</td>\n",
       " <td data-id=\"HR_CN\">64</td>\n",
       " <td data-id=\"TB_CN\">1179</td>\n",
       " <td data-id=\"RBI_CN\">400</td>\n",
       " <td data-id=\"SH_CN\">19</td>\n",
       " <td data-id=\"SF_CN\">29</td>\n",
       " </tr>,\n",
       " <tr>\n",
       " <td>3</td>\n",
       " <td>LG</td>\n",
       " <td class=\"asc\" data-id=\"HRA_RT\">0.282</td>\n",
       " <td data-id=\"GAME_CN\">84</td>\n",
       " <td data-id=\"PA_CN\">3347</td>\n",
       " <td data-id=\"AB_CN\">2853</td>\n",
       " <td data-id=\"RUN_CN\">462</td>\n",
       " <td data-id=\"HIT_CN\">805</td>\n",
       " <td data-id=\"H2_CN\">130</td>\n",
       " <td data-id=\"H3_CN\">17</td>\n",
       " <td data-id=\"HR_CN\">62</td>\n",
       " <td data-id=\"TB_CN\">1155</td>\n",
       " <td data-id=\"RBI_CN\">437</td>\n",
       " <td data-id=\"SH_CN\">21</td>\n",
       " <td data-id=\"SF_CN\">51</td>\n",
       " </tr>,\n",
       " <tr>\n",
       " <td>4</td>\n",
       " <td>두산</td>\n",
       " <td class=\"asc\" data-id=\"HRA_RT\">0.280</td>\n",
       " <td data-id=\"GAME_CN\">85</td>\n",
       " <td data-id=\"PA_CN\">3320</td>\n",
       " <td data-id=\"AB_CN\">2926</td>\n",
       " <td data-id=\"RUN_CN\">452</td>\n",
       " <td data-id=\"HIT_CN\">820</td>\n",
       " <td data-id=\"H2_CN\">140</td>\n",
       " <td data-id=\"H3_CN\">15</td>\n",
       " <td data-id=\"HR_CN\">85</td>\n",
       " <td data-id=\"TB_CN\">1245</td>\n",
       " <td data-id=\"RBI_CN\">426</td>\n",
       " <td data-id=\"SH_CN\">26</td>\n",
       " <td data-id=\"SF_CN\">46</td>\n",
       " </tr>,\n",
       " <tr>\n",
       " <td>5</td>\n",
       " <td>키움</td>\n",
       " <td class=\"asc\" data-id=\"HRA_RT\">0.279</td>\n",
       " <td data-id=\"GAME_CN\">79</td>\n",
       " <td data-id=\"PA_CN\">3134</td>\n",
       " <td data-id=\"AB_CN\">2757</td>\n",
       " <td data-id=\"RUN_CN\">392</td>\n",
       " <td data-id=\"HIT_CN\">768</td>\n",
       " <td data-id=\"H2_CN\">128</td>\n",
       " <td data-id=\"H3_CN\">11</td>\n",
       " <td data-id=\"HR_CN\">61</td>\n",
       " <td data-id=\"TB_CN\">1101</td>\n",
       " <td data-id=\"RBI_CN\">376</td>\n",
       " <td data-id=\"SH_CN\">20</td>\n",
       " <td data-id=\"SF_CN\">33</td>\n",
       " </tr>,\n",
       " <tr>\n",
       " <td>6</td>\n",
       " <td>SSG</td>\n",
       " <td class=\"asc\" data-id=\"HRA_RT\">0.274</td>\n",
       " <td data-id=\"GAME_CN\">82</td>\n",
       " <td data-id=\"PA_CN\">3231</td>\n",
       " <td data-id=\"AB_CN\">2837</td>\n",
       " <td data-id=\"RUN_CN\">421</td>\n",
       " <td data-id=\"HIT_CN\">778</td>\n",
       " <td data-id=\"H2_CN\">128</td>\n",
       " <td data-id=\"H3_CN\">10</td>\n",
       " <td data-id=\"HR_CN\">78</td>\n",
       " <td data-id=\"TB_CN\">1160</td>\n",
       " <td data-id=\"RBI_CN\">402</td>\n",
       " <td data-id=\"SH_CN\">26</td>\n",
       " <td data-id=\"SF_CN\">29</td>\n",
       " </tr>,\n",
       " <tr>\n",
       " <td>7</td>\n",
       " <td>KT</td>\n",
       " <td class=\"asc\" data-id=\"HRA_RT\">0.272</td>\n",
       " <td data-id=\"GAME_CN\">83</td>\n",
       " <td data-id=\"PA_CN\">3345</td>\n",
       " <td data-id=\"AB_CN\">2917</td>\n",
       " <td data-id=\"RUN_CN\">441</td>\n",
       " <td data-id=\"HIT_CN\">794</td>\n",
       " <td data-id=\"H2_CN\">126</td>\n",
       " <td data-id=\"H3_CN\">8</td>\n",
       " <td data-id=\"HR_CN\">89</td>\n",
       " <td data-id=\"TB_CN\">1203</td>\n",
       " <td data-id=\"RBI_CN\">409</td>\n",
       " <td data-id=\"SH_CN\">30</td>\n",
       " <td data-id=\"SF_CN\">23</td>\n",
       " </tr>,\n",
       " <tr>\n",
       " <td>8</td>\n",
       " <td>NC</td>\n",
       " <td class=\"asc\" data-id=\"HRA_RT\">0.270</td>\n",
       " <td data-id=\"GAME_CN\">81</td>\n",
       " <td data-id=\"PA_CN\">3292</td>\n",
       " <td data-id=\"AB_CN\">2825</td>\n",
       " <td data-id=\"RUN_CN\">432</td>\n",
       " <td data-id=\"HIT_CN\">762</td>\n",
       " <td data-id=\"H2_CN\">124</td>\n",
       " <td data-id=\"H3_CN\">9</td>\n",
       " <td data-id=\"HR_CN\">93</td>\n",
       " <td data-id=\"TB_CN\">1183</td>\n",
       " <td data-id=\"RBI_CN\">415</td>\n",
       " <td data-id=\"SH_CN\">29</td>\n",
       " <td data-id=\"SF_CN\">28</td>\n",
       " </tr>,\n",
       " <tr>\n",
       " <td>9</td>\n",
       " <td>한화</td>\n",
       " <td class=\"asc\" data-id=\"HRA_RT\">0.268</td>\n",
       " <td data-id=\"GAME_CN\">80</td>\n",
       " <td data-id=\"PA_CN\">3184</td>\n",
       " <td data-id=\"AB_CN\">2781</td>\n",
       " <td data-id=\"RUN_CN\">416</td>\n",
       " <td data-id=\"HIT_CN\">744</td>\n",
       " <td data-id=\"H2_CN\">124</td>\n",
       " <td data-id=\"H3_CN\">12</td>\n",
       " <td data-id=\"HR_CN\">70</td>\n",
       " <td data-id=\"TB_CN\">1102</td>\n",
       " <td data-id=\"RBI_CN\">394</td>\n",
       " <td data-id=\"SH_CN\">20</td>\n",
       " <td data-id=\"SF_CN\">23</td>\n",
       " </tr>,\n",
       " <tr>\n",
       " <td>10</td>\n",
       " <td>삼성</td>\n",
       " <td class=\"asc\" data-id=\"HRA_RT\">0.262</td>\n",
       " <td data-id=\"GAME_CN\">83</td>\n",
       " <td data-id=\"PA_CN\">3278</td>\n",
       " <td data-id=\"AB_CN\">2859</td>\n",
       " <td data-id=\"RUN_CN\">405</td>\n",
       " <td data-id=\"HIT_CN\">748</td>\n",
       " <td data-id=\"H2_CN\">125</td>\n",
       " <td data-id=\"H3_CN\">8</td>\n",
       " <td data-id=\"HR_CN\">88</td>\n",
       " <td data-id=\"TB_CN\">1153</td>\n",
       " <td data-id=\"RBI_CN\">384</td>\n",
       " <td data-id=\"SH_CN\">30</td>\n",
       " <td data-id=\"SF_CN\">30</td>\n",
       " </tr>]"
      ]
     },
     "execution_count": 267,
     "metadata": {},
     "output_type": "execute_result"
    }
   ],
   "source": [
    "soup.find('tbody').find_all('tr')"
   ]
  },
  {
   "cell_type": "code",
   "execution_count": 268,
   "metadata": {},
   "outputs": [],
   "source": [
    "list = soup.find('tbody').find_all('tr')"
   ]
  },
  {
   "cell_type": "code",
   "execution_count": 269,
   "metadata": {},
   "outputs": [],
   "source": [
    "batter_data = soup.find('tbody').find_all('tr')"
   ]
  },
  {
   "cell_type": "code",
   "execution_count": 270,
   "metadata": {},
   "outputs": [
    {
     "data": {
      "text/plain": [
       "['1',\n",
       " 'KIA',\n",
       " '0.294',\n",
       " '81',\n",
       " '3301',\n",
       " '2904',\n",
       " '474',\n",
       " '855',\n",
       " '143',\n",
       " '16',\n",
       " '92',\n",
       " '1306',\n",
       " '449',\n",
       " '21',\n",
       " '20']"
      ]
     },
     "execution_count": 270,
     "metadata": {},
     "output_type": "execute_result"
    }
   ],
   "source": [
    "batter_data[0].get_text().split()"
   ]
  },
  {
   "cell_type": "code",
   "execution_count": 220,
   "metadata": {},
   "outputs": [
    {
     "data": {
      "text/plain": [
       "'1'"
      ]
     },
     "execution_count": 220,
     "metadata": {},
     "output_type": "execute_result"
    }
   ],
   "source": [
    "batter_data[0].get_text().split()[0]"
   ]
  },
  {
   "cell_type": "markdown",
   "metadata": {},
   "source": [
    "Database에 넣기"
   ]
  },
  {
   "cell_type": "code",
   "execution_count": 221,
   "metadata": {},
   "outputs": [],
   "source": [
    "import mysql.connector\n",
    "\n",
    "eda = mysql.connector.connect(\n",
    "    host = 'database-1.cnusogkkql3j.us-east-2.rds.amazonaws.com ',\n",
    "    user = 'EDA_project', \n",
    "    port = '3306',\n",
    "    password = '1234',\n",
    "    database = 'KBO'\n",
    ")"
   ]
  },
  {
   "cell_type": "code",
   "execution_count": 271,
   "metadata": {},
   "outputs": [
    {
     "data": {
      "text/plain": [
       "['1',\n",
       " 'KIA',\n",
       " '0.294',\n",
       " '81',\n",
       " '3301',\n",
       " '2904',\n",
       " '474',\n",
       " '855',\n",
       " '143',\n",
       " '16',\n",
       " '92',\n",
       " '1306',\n",
       " '449',\n",
       " '21',\n",
       " '20']"
      ]
     },
     "execution_count": 271,
     "metadata": {},
     "output_type": "execute_result"
    }
   ],
   "source": [
    "batter_data[0].get_text().split()"
   ]
  },
  {
   "cell_type": "code",
   "execution_count": 223,
   "metadata": {},
   "outputs": [],
   "source": [
    "data = batter_data[0].get_text().split()"
   ]
  },
  {
   "cell_type": "code",
   "execution_count": 272,
   "metadata": {},
   "outputs": [
    {
     "name": "stdout",
     "output_type": "stream",
     "text": [
      "['1', 'KIA', '0.294', '81', '3301', '2904', '474', '855', '143', '16', '92', '1306', '449', '21', '20', '9', '31', '523', '67', '0.450', '0.369', '0.819', '81', '0.313', '0.305']\n"
     ]
    }
   ],
   "source": [
    "print(data)"
   ]
  },
  {
   "cell_type": "markdown",
   "metadata": {},
   "source": [
    "테이블 칼럼 추가"
   ]
  },
  {
   "cell_type": "code",
   "execution_count": 260,
   "metadata": {},
   "outputs": [],
   "source": [
    "cur = eda.cursor()\n",
    "cur.execute('create table 팀기록_타자 (year int, 팀_순위 int, 팀_이름 varchar(16), 팀_타율 float, 경기_수 int,  타석 int, \\\n",
    "            타수 int,득점 int, 안타 int, 2루타 int, 3루타 int, 홈런 int, 루타_합 int, 타점 int, 희생번트 int, 희생플라이 int, 볼넷 int, 고의사구 int, 사구 int, 삼진 int, \\\n",
    "             병살타 int, 장타율 float, 출루율 float, 장타율_주루율 float, 멀티히트 int, 특점권타율 float, 대타타율 float)')"
   ]
  },
  {
   "cell_type": "code",
   "execution_count": 211,
   "metadata": {},
   "outputs": [],
   "source": [
    "driver.find_element(By.XPATH, '''//*[@id=\"cphContents_cphContents_cphContents_udpContent\"]/div[2]/div[2]/a[2]''').click() \n",
    "#기록보기 > 클릭"
   ]
  },
  {
   "cell_type": "code",
   "execution_count": 273,
   "metadata": {},
   "outputs": [],
   "source": [
    "page_source = driver.page_source\n",
    "soup = BeautifulSoup(page_source, \"html.parser\")\n",
    "\n",
    "add_list = soup.find('tbody').find_all('tr')\n",
    "add_batter_data = soup.find('tbody').find_all('tr')"
   ]
  },
  {
   "cell_type": "code",
   "execution_count": 274,
   "metadata": {},
   "outputs": [
    {
     "data": {
      "text/plain": [
       "['1',\n",
       " 'KIA',\n",
       " '0.294',\n",
       " '323',\n",
       " '9',\n",
       " '31',\n",
       " '523',\n",
       " '67',\n",
       " '0.450',\n",
       " '0.369',\n",
       " '0.819',\n",
       " '81',\n",
       " '0.313',\n",
       " '0.305']"
      ]
     },
     "execution_count": 274,
     "metadata": {},
     "output_type": "execute_result"
    }
   ],
   "source": [
    "add_batter_data[0].get_text().split()"
   ]
  },
  {
   "cell_type": "code",
   "execution_count": 197,
   "metadata": {},
   "outputs": [
    {
     "name": "stdout",
     "output_type": "stream",
     "text": [
      "['1', '도슨', '키움', '0.368', '74', '337', '302', '61', '111', '28', '2', '10', '173', '44', '0', '1']\n"
     ]
    }
   ],
   "source": [
    "print(data)"
   ]
  },
  {
   "cell_type": "code",
   "execution_count": 275,
   "metadata": {},
   "outputs": [],
   "source": [
    "for i in range(4,len(add_batter_data[0].get_text().split())):  #data에 1개씩 추가\n",
    "    data.append(add_batter_data[0].get_text().split()[i])"
   ]
  },
  {
   "cell_type": "code",
   "execution_count": 276,
   "metadata": {},
   "outputs": [
    {
     "data": {
      "text/plain": [
       "35"
      ]
     },
     "execution_count": 276,
     "metadata": {},
     "output_type": "execute_result"
    }
   ],
   "source": [
    "len(data)"
   ]
  },
  {
   "cell_type": "code",
   "execution_count": 277,
   "metadata": {},
   "outputs": [
    {
     "data": {
      "text/plain": [
       "['1',\n",
       " 'KIA',\n",
       " '0.294',\n",
       " '81',\n",
       " '3301',\n",
       " '2904',\n",
       " '474',\n",
       " '855',\n",
       " '143',\n",
       " '16',\n",
       " '92',\n",
       " '1306',\n",
       " '449',\n",
       " '21',\n",
       " '20',\n",
       " '9',\n",
       " '31',\n",
       " '523',\n",
       " '67',\n",
       " '0.450',\n",
       " '0.369',\n",
       " '0.819',\n",
       " '81',\n",
       " '0.313',\n",
       " '0.305',\n",
       " '9',\n",
       " '31',\n",
       " '523',\n",
       " '67',\n",
       " '0.450',\n",
       " '0.369',\n",
       " '0.819',\n",
       " '81',\n",
       " '0.313',\n",
       " '0.305']"
      ]
     },
     "execution_count": 277,
     "metadata": {},
     "output_type": "execute_result"
    }
   ],
   "source": [
    "data"
   ]
  },
  {
   "cell_type": "markdown",
   "metadata": {},
   "source": [
    "팀기록_타자"
   ]
  },
  {
   "cell_type": "code",
   "execution_count": 288,
   "metadata": {},
   "outputs": [],
   "source": [
    "cursor = eda.cursor(buffered=True)\n",
    "sql = '''insert into 팀기록_타자 values('22',%s,%s,%s,%s,%s,\n",
    "                                            %s,%s,%s,%s,%s,\n",
    "                                            %s,%s,%s,%s,%s,\n",
    "                                            %s,%s,%s,%s,%s,\n",
    "                                            %s,%s,%s,%s,%s,%s\n",
    "                                            )'''\n",
    "\n",
    "#페이지 파싱\n",
    "page_source = driver.page_source\n",
    "soup = BeautifulSoup(page_source, \"html.parser\")\n",
    "list = soup.find('tbody').find_all('tr')\n",
    "\n",
    "for i in range(len(list)):        \n",
    "        #페이지 파싱\n",
    "        page_source = driver.page_source\n",
    "        soup = BeautifulSoup(page_source, \"html.parser\")\n",
    "\n",
    "        # 데이터 insert\n",
    "        list = soup.find('tbody').find_all('tr')\n",
    "        batter_data = soup.find('tbody').find_all('tr')\n",
    "        \n",
    "        data = batter_data[i].get_text().split() \n",
    "   \n",
    "        #기록보기 > 클릭\n",
    "        driver.find_element(By.XPATH, '''//*[@id=\"cphContents_cphContents_cphContents_udpContent\"]/div[2]/div/div/a[2]''').click() \n",
    "        time.sleep(0.5)\n",
    "\n",
    "        #페이지 파싱\n",
    "        page_source = driver.page_source\n",
    "        soup = BeautifulSoup(page_source, \"html.parser\")\n",
    "\n",
    "        # 데이터 insert\n",
    "        add_list = soup.find('tbody').find_all('tr')\n",
    "        add_batter_data = soup.find('tbody').find_all('tr')\n",
    "        #data에 1개씩 추가\n",
    "        for y in range(3,len(add_batter_data[i].get_text().split())):  #data에 1개씩 추가\n",
    "            data.append(add_batter_data[i].get_text().split()[y])\n",
    "         \n",
    "        cursor.execute(sql, data)\n",
    "        eda.commit()\n",
    "\n",
    "        #기록보기 < 클릭\n",
    "        driver.find_element(By.XPATH, '''//*[@id=\"cphContents_cphContents_cphContents_udpContent\"]/div[2]/div/div/a[1]''').click() \n",
    "        time.sleep(0.5)\n",
    "\n"
   ]
  },
  {
   "cell_type": "markdown",
   "metadata": {},
   "source": [
    "2023 데이터 등록"
   ]
  },
  {
   "cell_type": "code",
   "execution_count": 263,
   "metadata": {},
   "outputs": [],
   "source": [
    "cursor = eda.cursor(buffered=True)\n",
    "sql = '''insert into 기록실_선수기록_타자 values(%s,%s,%s,%s,%s,\n",
    "                                            %s,%s,%s,%s,%s,\n",
    "                                            %s,%s,%s,%s,%s,\n",
    "                                            %s,%s,%s,%s,%s,\n",
    "                                            %s,%s,%s,%s,%s,\n",
    "                                            %s,%s,'23')'''\n",
    "\n",
    "#페이지 파싱\n",
    "page_source = driver.page_source\n",
    "soup = BeautifulSoup(page_source, \"html.parser\")\n",
    "list = soup.find('tbody').find_all('tr')\n",
    "\n",
    "for i in range(len(list)):        \n",
    "        #페이지 파싱\n",
    "        page_source = driver.page_source\n",
    "        soup = BeautifulSoup(page_source, \"html.parser\")\n",
    "\n",
    "        # 데이터 insert\n",
    "        list = soup.find('tbody').find_all('tr')\n",
    "        batter_data = soup.find('tbody').find_all('tr')\n",
    "        \n",
    "        data = batter_data[i].get_text().split() \n",
    "\n",
    "        #기록보기 > 클릭\n",
    "        driver.find_element(By.XPATH, '''//*[@id=\"cphContents_cphContents_cphContents_udpContent\"]/div[2]/div[2]/a[2]''').click() \n",
    "        time.sleep(0.5)\n",
    "\n",
    "        #페이지 파싱\n",
    "        page_source = driver.page_source\n",
    "        soup = BeautifulSoup(page_source, \"html.parser\")\n",
    "\n",
    "        # 데이터 insert\n",
    "        add_list = soup.find('tbody').find_all('tr')\n",
    "        add_batter_data = soup.find('tbody').find_all('tr')\n",
    "        #data에 1개씩 추가\n",
    "        for y in range(4,len(add_batter_data[i].get_text().split())):  #data에 1개씩 추가\n",
    "            data.append(add_batter_data[i].get_text().split()[y])\n",
    "        \n",
    "        cursor.execute(sql, data)\n",
    "        eda.commit()\n",
    "\n",
    "        #기록보기 < 클릭\n",
    "        driver.find_element(By.XPATH, '''//*[@id=\"cphContents_cphContents_cphContents_udpContent\"]/div[2]/div[2]/a[1]''').click() \n",
    "        time.sleep(0.5)\n",
    "\n",
    "\n",
    " #기록보기 < 클릭\n",
    "driver.find_element(By.XPATH, '''//*[@id=\"cphContents_cphContents_cphContents_udpContent\"]/div[2]/div[2]/a[1]''').click() \n",
    "time.sleep(0.1)\n",
    "#화면 내리기\n",
    "driver.execute_script(\"window.scrollTo(0, document.body.scrollHeight)\") \n",
    "time.sleep(0.2)\n",
    "    \n",
    "#2페이지 클릭\n",
    "driver.find_element(By.XPATH, '''//*[@id=\"cphContents_cphContents_cphContents_ucPager_btnNo2\"]''').click() \n",
    "time.sleep(0.2)\n",
    "\n",
    "#페이지 파싱\n",
    "page_source = driver.page_source\n",
    "soup = BeautifulSoup(page_source, \"html.parser\")\n",
    "list = soup.find('tbody').find_all('tr')\n",
    "\n",
    "for i in range(len(list)):      \n",
    "    #화면 내리기\n",
    "    driver.execute_script(\"window.scrollTo(0, document.body.scrollHeight)\") \n",
    "    time.sleep(0.2)\n",
    "    \n",
    "    #2페이지 클릭\n",
    "    driver.find_element(By.XPATH, '''//*[@id=\"cphContents_cphContents_cphContents_ucPager_btnNo2\"]''').click() \n",
    "    time.sleep(0.2)\n",
    "    #위로 스크롤\n",
    "    driver.execute_script(\"window.scrollTo(0, 0)\") \n",
    "    time.sleep(0.5)\n",
    "\n",
    "    #페이지 파싱\n",
    "    page_source = driver.page_source\n",
    "    soup = BeautifulSoup(page_source, \"html.parser\")\n",
    "    # 데이터 insert\n",
    "    list = soup.find('tbody').find_all('tr')\n",
    "    batter_data = soup.find('tbody').find_all('tr')\n",
    "        \n",
    "    data = batter_data[i].get_text().split() \n",
    "\n",
    "    #기록보기 > 클릭\n",
    "    driver.find_element(By.XPATH, '''//*[@id=\"cphContents_cphContents_cphContents_udpContent\"]/div[2]/div[2]/a[2]''').click() \n",
    "    time.sleep(0.1)\n",
    "\n",
    "    #화면 내리기\n",
    "    driver.execute_script(\"window.scrollTo(0, document.body.scrollHeight)\") \n",
    "    time.sleep(0.2)\n",
    "\n",
    "    #2페이지 클릭\n",
    "    driver.find_element(By.XPATH, '''//*[@id=\"cphContents_cphContents_cphContents_ucPager_btnNo2\"]''').click() \n",
    "    time.sleep(0.5)\n",
    "\n",
    "    #페이지 파싱\n",
    "    page_source = driver.page_source\n",
    "    soup = BeautifulSoup(page_source, \"html.parser\")\n",
    "\n",
    "    # 데이터 insert\n",
    "    add_list = soup.find('tbody').find_all('tr')\n",
    "    add_batter_data = soup.find('tbody').find_all('tr')\n",
    "    #data에 1개씩 추가\n",
    "    for y in range(4,len(add_batter_data[i].get_text().split())):  #data에 1개씩 추가\n",
    "        data.append(add_batter_data[i].get_text().split()[y])\n",
    "\n",
    "    cursor.execute(sql, data)\n",
    "    eda.commit()\n",
    "\n",
    "    #위로 스크롤\n",
    "    driver.execute_script(\"window.scrollTo(0, 0)\") \n",
    "    time.sleep(0.2)\n",
    "\n",
    "     #기록보기 < 클릭\n",
    "    driver.find_element(By.XPATH, '''//*[@id=\"cphContents_cphContents_cphContents_udpContent\"]/div[2]/div[2]/a[1]''').click() \n",
    "    time.sleep(0.1)"
   ]
  },
  {
   "cell_type": "markdown",
   "metadata": {},
   "source": [
    "2022 데이터"
   ]
  },
  {
   "cell_type": "code",
   "execution_count": 264,
   "metadata": {},
   "outputs": [],
   "source": [
    "cursor = eda.cursor(buffered=True)\n",
    "sql = '''insert into 기록실_선수기록_타자 values(%s,%s,%s,%s,%s,\n",
    "                                            %s,%s,%s,%s,%s,\n",
    "                                            %s,%s,%s,%s,%s,\n",
    "                                            %s,%s,%s,%s,%s,\n",
    "                                            %s,%s,%s,%s,%s,\n",
    "                                            %s,%s,'22')'''\n",
    "\n",
    "#페이지 파싱\n",
    "page_source = driver.page_source\n",
    "soup = BeautifulSoup(page_source, \"html.parser\")\n",
    "list = soup.find('tbody').find_all('tr')\n",
    "\n",
    "for i in range(len(list)):        \n",
    "        #페이지 파싱\n",
    "        page_source = driver.page_source\n",
    "        soup = BeautifulSoup(page_source, \"html.parser\")\n",
    "\n",
    "        # 데이터 insert\n",
    "        list = soup.find('tbody').find_all('tr')\n",
    "        batter_data = soup.find('tbody').find_all('tr')\n",
    "        \n",
    "        data = batter_data[i].get_text().split() \n",
    "\n",
    "        #기록보기 > 클릭\n",
    "        driver.find_element(By.XPATH, '''//*[@id=\"cphContents_cphContents_cphContents_udpContent\"]/div[2]/div[2]/a[2]''').click() \n",
    "        time.sleep(0.5)\n",
    "\n",
    "        #페이지 파싱\n",
    "        page_source = driver.page_source\n",
    "        soup = BeautifulSoup(page_source, \"html.parser\")\n",
    "\n",
    "        # 데이터 insert\n",
    "        add_list = soup.find('tbody').find_all('tr')\n",
    "        add_batter_data = soup.find('tbody').find_all('tr')\n",
    "        #data에 1개씩 추가\n",
    "        for y in range(4,len(add_batter_data[i].get_text().split())):  #data에 1개씩 추가\n",
    "            data.append(add_batter_data[i].get_text().split()[y])\n",
    "        \n",
    "        cursor.execute(sql, data)\n",
    "        eda.commit()\n",
    "\n",
    "        #기록보기 < 클릭\n",
    "        driver.find_element(By.XPATH, '''//*[@id=\"cphContents_cphContents_cphContents_udpContent\"]/div[2]/div[2]/a[1]''').click() \n",
    "        time.sleep(0.5)\n",
    "\n",
    "\n",
    " #기록보기 < 클릭\n",
    "driver.find_element(By.XPATH, '''//*[@id=\"cphContents_cphContents_cphContents_udpContent\"]/div[2]/div[2]/a[1]''').click() \n",
    "time.sleep(0.1)\n",
    "#화면 내리기\n",
    "driver.execute_script(\"window.scrollTo(0, document.body.scrollHeight)\") \n",
    "time.sleep(0.2)\n",
    "    \n",
    "#2페이지 클릭\n",
    "driver.find_element(By.XPATH, '''//*[@id=\"cphContents_cphContents_cphContents_ucPager_btnNo2\"]''').click() \n",
    "time.sleep(0.2)\n",
    "\n",
    "#페이지 파싱\n",
    "page_source = driver.page_source\n",
    "soup = BeautifulSoup(page_source, \"html.parser\")\n",
    "list = soup.find('tbody').find_all('tr')\n",
    "\n",
    "for i in range(len(list)):      \n",
    "    #화면 내리기\n",
    "    driver.execute_script(\"window.scrollTo(0, document.body.scrollHeight)\") \n",
    "    time.sleep(0.2)\n",
    "    \n",
    "    #2페이지 클릭\n",
    "    driver.find_element(By.XPATH, '''//*[@id=\"cphContents_cphContents_cphContents_ucPager_btnNo2\"]''').click() \n",
    "    time.sleep(0.2)\n",
    "    #위로 스크롤\n",
    "    driver.execute_script(\"window.scrollTo(0, 0)\") \n",
    "    time.sleep(0.5)\n",
    "\n",
    "    #페이지 파싱\n",
    "    page_source = driver.page_source\n",
    "    soup = BeautifulSoup(page_source, \"html.parser\")\n",
    "    # 데이터 insert\n",
    "    list = soup.find('tbody').find_all('tr')\n",
    "    batter_data = soup.find('tbody').find_all('tr')\n",
    "        \n",
    "    data = batter_data[i].get_text().split() \n",
    "\n",
    "    #기록보기 > 클릭\n",
    "    driver.find_element(By.XPATH, '''//*[@id=\"cphContents_cphContents_cphContents_udpContent\"]/div[2]/div[2]/a[2]''').click() \n",
    "    time.sleep(0.1)\n",
    "\n",
    "    #화면 내리기\n",
    "    driver.execute_script(\"window.scrollTo(0, document.body.scrollHeight)\") \n",
    "    time.sleep(0.2)\n",
    "\n",
    "    #2페이지 클릭\n",
    "    driver.find_element(By.XPATH, '''//*[@id=\"cphContents_cphContents_cphContents_ucPager_btnNo2\"]''').click() \n",
    "    time.sleep(0.5)\n",
    "\n",
    "    #페이지 파싱\n",
    "    page_source = driver.page_source\n",
    "    soup = BeautifulSoup(page_source, \"html.parser\")\n",
    "\n",
    "    # 데이터 insert\n",
    "    add_list = soup.find('tbody').find_all('tr')\n",
    "    add_batter_data = soup.find('tbody').find_all('tr')\n",
    "    #data에 1개씩 추가\n",
    "    for y in range(4,len(add_batter_data[i].get_text().split())):  #data에 1개씩 추가\n",
    "        data.append(add_batter_data[i].get_text().split()[y])\n",
    "\n",
    "    cursor.execute(sql, data)\n",
    "    eda.commit()\n",
    "\n",
    "    #위로 스크롤\n",
    "    driver.execute_script(\"window.scrollTo(0, 0)\") \n",
    "    time.sleep(0.2)\n",
    "\n",
    "     #기록보기 < 클릭\n",
    "    driver.find_element(By.XPATH, '''//*[@id=\"cphContents_cphContents_cphContents_udpContent\"]/div[2]/div[2]/a[1]''').click() \n",
    "    time.sleep(0.1)"
   ]
  },
  {
   "cell_type": "markdown",
   "metadata": {},
   "source": [
    "# 기록실 - 선수기록 - 투수"
   ]
  },
  {
   "cell_type": "code",
   "execution_count": 294,
   "metadata": {},
   "outputs": [],
   "source": [
    "from selenium import webdriver\n",
    "from selenium.webdriver.chrome.service import Service\n",
    "from selenium.webdriver.common.by import By\n",
    "from selenium.webdriver.common.keys import Keys\n",
    "from selenium.webdriver import ActionChains\n",
    "import time\n",
    "import re"
   ]
  },
  {
   "cell_type": "code",
   "execution_count": 304,
   "metadata": {},
   "outputs": [],
   "source": [
    "driver = webdriver.Chrome(service=Service(\"/home/sh/dev_ws/driver/chromedriver\"))\n",
    "driver.get(\"https://www.koreabaseball.com/Record/Team/Pitcher/Basic1.aspx\")\n",
    "driver.implicitly_wait(10)\n",
    "\n",
    "driver.maximize_window() #화면 크게"
   ]
  },
  {
   "cell_type": "code",
   "execution_count": 305,
   "metadata": {},
   "outputs": [],
   "source": [
    "driver.find_element(By.XPATH, '''//*[@id=\"contents\"]/div[2]/div[2]/ul/li[2]/a''').click() #투수 클릭"
   ]
  },
  {
   "cell_type": "markdown",
   "metadata": {},
   "source": [
    "테이블 추가"
   ]
  },
  {
   "cell_type": "code",
   "execution_count": 338,
   "metadata": {},
   "outputs": [],
   "source": [
    "import mysql.connector\n",
    "\n",
    "eda = mysql.connector.connect(\n",
    "    host = 'database-1.cnusogkkql3j.us-east-2.rds.amazonaws.com ',\n",
    "    user = 'EDA_project', \n",
    "    port = '3306',\n",
    "    password = '1234',\n",
    "    database = 'KBO'\n",
    ")\n"
   ]
  },
  {
   "cell_type": "code",
   "execution_count": 85,
   "metadata": {},
   "outputs": [],
   "source": [
    "cur = eda.cursor()\n",
    "cur.execute('create table 기록실_선수기록_투수 \\\n",
    "            (순위 int, 선수명 varchar(16), 팀명 varchar(16), ERA float, G int, W int, L int,SV int, HLD int, \\\n",
    "             WPCT float, IP float, H int, HR int, BB int, HBP int, SO int, R int, ER int, WHIP float, CG int, SHO int, QS int, \\\n",
    "            BSV int, TBF int, NP int, AVG float, 2B int, 3B int, SAC int, SF int, IBB int, WP int, Bk int);')\n"
   ]
  },
  {
   "cell_type": "code",
   "execution_count": 88,
   "metadata": {},
   "outputs": [],
   "source": [
    "cur = eda.cursor()\n",
    "cur.execute('alter table 기록실_선수기록_투수 add column (year int)') "
   ]
  },
  {
   "cell_type": "code",
   "execution_count": 291,
   "metadata": {},
   "outputs": [],
   "source": [
    "eda.close()"
   ]
  },
  {
   "cell_type": "code",
   "execution_count": 306,
   "metadata": {},
   "outputs": [],
   "source": [
    "from bs4 import BeautifulSoup\n",
    "from urllib.request import urlopen\n",
    "from urllib.request import Request\n",
    "\n",
    "page_source = driver.page_source\n",
    "soup = BeautifulSoup(page_source, \"html.parser\")"
   ]
  },
  {
   "cell_type": "code",
   "execution_count": 307,
   "metadata": {},
   "outputs": [],
   "source": [
    "list = soup.find('tbody').find_all('tr')\n",
    "pitcher_data = soup.find('tbody').find_all('tr')"
   ]
  },
  {
   "cell_type": "code",
   "execution_count": 319,
   "metadata": {},
   "outputs": [
    {
     "data": {
      "text/plain": [
       "['2',\n",
       " '삼성',\n",
       " '4.43',\n",
       " '83',\n",
       " '44',\n",
       " '37',\n",
       " '26',\n",
       " '68',\n",
       " '0.543',\n",
       " '741',\n",
       " '2/3',\n",
       " '768',\n",
       " '86',\n",
       " '301',\n",
       " '48',\n",
       " '573',\n",
       " '395',\n",
       " '365',\n",
       " '1.44']"
      ]
     },
     "execution_count": 319,
     "metadata": {},
     "output_type": "execute_result"
    }
   ],
   "source": [
    "pitcher_data[1].get_text().split()"
   ]
  },
  {
   "cell_type": "code",
   "execution_count": 309,
   "metadata": {},
   "outputs": [
    {
     "data": {
      "text/plain": [
       "18"
      ]
     },
     "execution_count": 309,
     "metadata": {},
     "output_type": "execute_result"
    }
   ],
   "source": [
    "len(pitcher_data[0].get_text().split()) # IP가 int + 분수 인 경우"
   ]
  },
  {
   "cell_type": "code",
   "execution_count": 308,
   "metadata": {},
   "outputs": [
    {
     "data": {
      "text/plain": [
       "19"
      ]
     },
     "execution_count": 308,
     "metadata": {},
     "output_type": "execute_result"
    }
   ],
   "source": [
    "len(pitcher_data[1].get_text().split())# IP가 int 인 경우"
   ]
  },
  {
   "cell_type": "code",
   "execution_count": 322,
   "metadata": {},
   "outputs": [
    {
     "data": {
      "text/plain": [
       "'2/3'"
      ]
     },
     "execution_count": 322,
     "metadata": {},
     "output_type": "execute_result"
    }
   ],
   "source": [
    "pitcher_data[1].get_text().split()[10]"
   ]
  },
  {
   "cell_type": "code",
   "execution_count": 323,
   "metadata": {},
   "outputs": [
    {
     "data": {
      "text/plain": [
       "0.67"
      ]
     },
     "execution_count": 323,
     "metadata": {},
     "output_type": "execute_result"
    }
   ],
   "source": [
    "round(int(pitcher_data[1].get_text().split()[10].split('/')[0])/int(pitcher_data[1].get_text().split()[10].split('/')[1]), 2)"
   ]
  },
  {
   "cell_type": "code",
   "execution_count": 325,
   "metadata": {},
   "outputs": [
    {
     "data": {
      "text/plain": [
       "741.67"
      ]
     },
     "execution_count": 325,
     "metadata": {},
     "output_type": "execute_result"
    }
   ],
   "source": [
    "int(pitcher_data[1].get_text().split()[9])+round(int(pitcher_data[1].get_text().split()[10].split('/')[0])/int(pitcher_data[1].get_text().split()[10].split('/')[1]), 2)"
   ]
  },
  {
   "cell_type": "code",
   "execution_count": 332,
   "metadata": {},
   "outputs": [],
   "source": [
    "pitcher_list = pitcher_data[0].get_text().split() "
   ]
  },
  {
   "cell_type": "code",
   "execution_count": 335,
   "metadata": {},
   "outputs": [
    {
     "data": {
      "text/plain": [
       "'729'"
      ]
     },
     "execution_count": 335,
     "metadata": {},
     "output_type": "execute_result"
    }
   ],
   "source": [
    "pitcher_list[9]"
   ]
  },
  {
   "cell_type": "code",
   "execution_count": 336,
   "metadata": {},
   "outputs": [
    {
     "name": "stdout",
     "output_type": "stream",
     "text": [
      "['1', 'KIA', '4.42', '81', '46', '33', '28', '50', '0.582', 741.67, '83', '317', '50', '622', '427', '358', '1.50']\n"
     ]
    }
   ],
   "source": [
    "pitcher_list[9] = int(pitcher_data[1].get_text().split()[9])+round(int(pitcher_data[1].get_text().split()[10].split('/')[0])/int(pitcher_data[1].get_text().split()[10].split('/')[1]), 2)\n",
    "pitcher_list.pop(10)\n",
    "print(pitcher_list)"
   ]
  },
  {
   "cell_type": "markdown",
   "metadata": {},
   "source": [
    "24년 데이터 insert"
   ]
  },
  {
   "cell_type": "code",
   "execution_count": 102,
   "metadata": {},
   "outputs": [],
   "source": [
    "cursor = eda.cursor(buffered=True)\n",
    "sql = '''insert into 기록실_선수기록_투수 values(%s,%s,%s,%s,%s,\n",
    "                                            %s,%s,%s,%s,%s,\n",
    "                                            %s,%s,%s,%s,%s,\n",
    "                                            %s,%s,%s,%s,%s,\n",
    "                                            %s,%s,%s,%s,%s,\n",
    "                                            %s,%s,%s,%s,%s,\n",
    "                                            %s,%s,%s,'24')'''\n",
    "\n",
    "#페이지 파싱\n",
    "page_source = driver.page_source\n",
    "soup = BeautifulSoup(page_source, \"html.parser\")\n",
    "list = soup.find('tbody').find_all('tr')\n",
    "\n",
    "for i in range(len(list)):        \n",
    "        #페이지 파싱\n",
    "        page_source = driver.page_source\n",
    "        soup = BeautifulSoup(page_source, \"html.parser\")\n",
    "\n",
    "        # 데이터 insert\n",
    "        list = soup.find('tbody').find_all('tr')\n",
    "        pitcher_data = soup.find('tbody').find_all('tr')\n",
    "        \n",
    "\n",
    "        # IP 데이터 다른 경우 \n",
    "        if len(pitcher_data[i].get_text().split()) == 20:\n",
    "            pitcher_list = pitcher_data[i].get_text().split() \n",
    "            pitcher_list[10] = int(pitcher_data[i].get_text().split()[10])+round(int(pitcher_data[i].get_text().split()[11].split('/')[0])/int(pitcher_data[i].get_text().split()[11].split('/')[1]), 2)\n",
    "            pitcher_list.pop(11)\n",
    "            data = pitcher_list\n",
    "        else: \n",
    "            data = pitcher_data[i].get_text().split() \n",
    "\n",
    "        #기록보기 > 클릭\n",
    "        driver.find_element(By.XPATH, '''//*[@id=\"cphContents_cphContents_cphContents_udpContent\"]/div[2]/div[2]/a[2]''').click() \n",
    "        time.sleep(0.3)\n",
    "\n",
    "        #페이지 파싱\n",
    "        page_source = driver.page_source\n",
    "        soup = BeautifulSoup(page_source, \"html.parser\")\n",
    "\n",
    "        # 데이터 insert\n",
    "        add_list = soup.find('tbody').find_all('tr')\n",
    "        add_pitcher_data = soup.find('tbody').find_all('tr')\n",
    "        #data에 1개씩 추가\n",
    "        for y in range(4,len(add_pitcher_data[i].get_text().split())):  #data에 1개씩 추가\n",
    "            data.append(add_pitcher_data[i].get_text().split()[y])\n",
    "        \n",
    "        cursor.execute(sql, data)\n",
    "        eda.commit()\n",
    "\n",
    "        #기록보기 < 클릭\n",
    "        driver.find_element(By.XPATH, '''//*[@id=\"cphContents_cphContents_cphContents_udpContent\"]/div[2]/div[2]/a[1]''').click() \n",
    "        time.sleep(0.3)\n"
   ]
  },
  {
   "cell_type": "markdown",
   "metadata": {},
   "source": [
    "팀기록_투수"
   ]
  },
  {
   "cell_type": "code",
   "execution_count": 347,
   "metadata": {},
   "outputs": [],
   "source": [
    "cur = eda.cursor()\n",
    "cur.execute('create table 팀기록_투수 (year int, 순위 int, 팀명 varchar(16), 평균자책점 float, 경기_수 int, 승리 int, 패배 int, 세이브 int, \\\n",
    "            홀드 int, 승률 float, 이닝 float, 피안타 int, 홈련 int, 볼넷 int, 사구 int, 삼진 int,실점 int, 자책점 int, 이닝당출루허용률 float, \\\n",
    "            완투 int, 완봉 int, 퀄리티스타트 int, 블론세이브 int, 타자수 int, 투구수 int, 피안타율 float, 2루타 int, 3루타 int, 희생번트 int, 희생플라이 int, 고의사구 int, 폭투 int, 보크 int)')"
   ]
  },
  {
   "cell_type": "code",
   "execution_count": 356,
   "metadata": {},
   "outputs": [
    {
     "name": "stdout",
     "output_type": "stream",
     "text": [
      "18\n",
      "['1', 'KIA', '4.42', '81', '46', '33', '28', '50', '0.582', '729', '780', '83', '317', '50', '622', '427', '358', '1.50']\n",
      "32\n",
      "['1', 'KIA', '4.42', '81', '46', '33', '28', '50', '0.582', '729', '780', '83', '317', '50', '622', '427', '358', '1.50', '1', '0', '26', '15', '3275', '12708', '0.273', '143', '10', '19', '27', '11', '32', '1']\n",
      "32\n",
      "['1', 'KIA', '4.42', '81', '46', '33', '28', '50', '0.582', '729', '780', '83', '317', '50', '622', '427', '358', '1.50', '1', '0', '26', '15', '3275', '12708', '0.273', '143', '10', '19', '27', '11', '32', '1']\n",
      "18\n",
      "['2', '삼성', '4.43', '83', '44', '37', '26', '68', '0.543', 741.67, '768', '86', '301', '48', '573', '395', '365', '1.44']\n",
      "32\n",
      "['2', '삼성', '4.43', '83', '44', '37', '26', '68', '0.543', 741.67, '768', '86', '301', '48', '573', '395', '365', '1.44', '0', '7', '27', '14', '3294', '13180', '0.266', '128', '14', '23', '38', '13', '34', '1']\n",
      "18\n",
      "['3', 'LG', '4.51', '84', '45', '37', '23', '42', '0.549', '743', '792', '71', '335', '50', '632', '418', '372', '1.52']\n",
      "32\n",
      "['3', 'LG', '4.51', '84', '45', '37', '23', '42', '0.549', '743', '792', '71', '335', '50', '632', '418', '372', '1.52', '2', '3', '32', '11', '3350', '13090', '0.273', '127', '4', '29', '34', '8', '43', '2']\n",
      "18\n",
      "['4', '두산', '4.54', '85', '44', '39', '25', '40', '0.530', '760', '797', '80', '332', '54', '610', '426', '383', '1.49']\n",
      "32\n",
      "['4', '두산', '4.54', '85', '44', '39', '25', '40', '0.530', '760', '797', '80', '332', '54', '610', '426', '383', '1.49', '1', '4', '28', '13', '3412', '13478', '0.268', '125', '19', '30', '19', '8', '42', '3']\n",
      "18\n",
      "['5', 'NC', '4.71', '81', '38', '41', '17', '42', '0.481', '724', '775', '71', '283', '36', '613', '422', '379', '1.46']\n",
      "32\n",
      "['5', 'NC', '4.71', '81', '38', '41', '17', '42', '0.481', '724', '775', '71', '283', '36', '613', '422', '379', '1.46', '0', '5', '31', '9', '3198', '12671', '0.275', '143', '12', '28', '32', '6', '26', '2']\n",
      "18\n",
      "['6', '롯데', '5.03', '78', '35', '40', '18', '31', '0.467', '690', '783', '72', '287', '44', '584', '414', '386', '1.55']\n",
      "32\n",
      "['6', '롯데', '5.03', '78', '35', '40', '18', '31', '0.467', '690', '783', '72', '287', '44', '584', '414', '386', '1.55', '1', '3', '31', '13', '3099', '12094', '0.289', '135', '13', '27', '31', '10', '50', '3']\n",
      "32\n",
      "['6', '롯데', '5.03', '78', '35', '40', '18', '31', '0.467', '690', '783', '72', '287', '44', '584', '414', '386', '1.55', '1', '3', '31', '13', '3099', '12094', '0.289', '135', '13', '27', '31', '10', '50', '3']\n",
      "18\n",
      "['7', '키움', '5.06', '79', '34', '45', '14', '35', '0.430', 697.33, '769', '71', '292', '48', '498', '432', '392', '1.52']\n",
      "32\n",
      "['7', '키움', '5.06', '79', '34', '45', '14', '35', '0.430', 697.33, '769', '71', '292', '48', '498', '432', '392', '1.52', '0', '2', '27', '6', '3146', '11814', '0.280', '142', '14', '20', '37', '7', '43', '5']\n",
      "18\n",
      "['8', '한화', '5.11', '80', '35', '43', '13', '25', '0.449', '708', '797', '68', '308', '48', '605', '437', '402', '1.56']\n",
      "32\n",
      "['8', '한화', '5.11', '80', '35', '43', '13', '25', '0.449', '708', '797', '68', '308', '48', '605', '437', '402', '1.56', '0', '6', '24', '9', '3202', '12643', '0.286', '121', '9', '27', '30', '7', '35', '2']\n",
      "18\n",
      "['9', 'SSG', '5.31', '82', '41', '40', '18', '44', '0.506', '721', '760', '91', '368', '43', '692', '469', '425', '1.56']\n",
      "32\n",
      "['9', 'SSG', '5.31', '82', '41', '40', '18', '44', '0.506', '721', '760', '91', '368', '43', '692', '469', '425', '1.56', '0', '4', '19', '10', '3263', '13085', '0.270', '109', '12', '16', '23', '13', '32', '1']\n",
      "32\n",
      "['9', 'SSG', '5.31', '82', '41', '40', '18', '44', '0.506', '721', '760', '91', '368', '43', '692', '469', '425', '1.56', '0', '4', '19', '10', '3263', '13085', '0.270', '109', '12', '16', '23', '13', '32', '1']\n",
      "18\n",
      "['10', 'KT', '5.53', '83', '37', '44', '12', '30', '0.457', 735.33, '835', '89', '273', '34', '637', '487', '452', '1.51']\n",
      "32\n",
      "['10', 'KT', '5.53', '83', '37', '44', '12', '30', '0.457', 735.33, '835', '89', '273', '34', '637', '487', '452', '1.51', '0', '2', '26', '14', '3283', '12498', '0.287', '150', '24', '23', '41', '12', '30', '3']\n"
     ]
    }
   ],
   "source": [
    "cursor = eda.cursor(buffered=True)\n",
    "sql = '''insert into 팀기록_투수 values('24',%s,%s,%s,%s,%s,\n",
    "                                            %s,%s,%s,%s,%s,\n",
    "                                            %s,%s,%s,%s,%s,\n",
    "                                            %s,%s,%s,%s,%s,\n",
    "                                            %s,%s,%s,%s,%s,\n",
    "                                            %s,%s,%s,%s,%s,\n",
    "                                            %s,%s)'''\n",
    "\n",
    "#페이지 파싱\n",
    "page_source = driver.page_source\n",
    "soup = BeautifulSoup(page_source, \"html.parser\")\n",
    "list = soup.find('tbody').find_all('tr')\n",
    "\n",
    "for i in range(len(list)):        \n",
    "        #페이지 파싱\n",
    "        page_source = driver.page_source\n",
    "        soup = BeautifulSoup(page_source, \"html.parser\")\n",
    "\n",
    "        # 데이터 insert\n",
    "        list = soup.find('tbody').find_all('tr')\n",
    "        pitcher_data = soup.find('tbody').find_all('tr')\n",
    "        \n",
    "\n",
    "        # IP 데이터 다른 경우 \n",
    "        if len(pitcher_data[i].get_text().split()) == 19:\n",
    "            pitcher_list = pitcher_data[i].get_text().split() \n",
    "            pitcher_list[9] = int(pitcher_data[i].get_text().split()[9])+round(int(pitcher_data[i].get_text().split()[10].split('/')[0])/int(pitcher_data[i].get_text().split()[10].split('/')[1]), 2)\n",
    "            pitcher_list.pop(10) \n",
    "            print(len(data))\n",
    "            print(data)\n",
    "            data = pitcher_list\n",
    "        else: \n",
    "            data = pitcher_data[i].get_text().split() \n",
    "\n",
    "        print(len(data))\n",
    "        print(data)\n",
    "        #기록보기 > 클릭\n",
    "        driver.find_element(By.XPATH, '''//*[@id=\"cphContents_cphContents_cphContents_udpContent\"]/div[2]/div/div/a[2]''').click() \n",
    "        time.sleep(0.3)\n",
    "\n",
    "        #페이지 파싱\n",
    "        page_source = driver.page_source\n",
    "        soup = BeautifulSoup(page_source, \"html.parser\")\n",
    "\n",
    "        # 데이터 insert\n",
    "        add_list = soup.find('tbody').find_all('tr')\n",
    "        add_pitcher_data = soup.find('tbody').find_all('tr')\n",
    "        #data에 1개씩 추가\n",
    "        for y in range(3,len(add_pitcher_data[i].get_text().split())):  #data에 1개씩 추가\n",
    "            data.append(add_pitcher_data[i].get_text().split()[y])\n",
    "        \n",
    "        print(len(data))\n",
    "        print(data)\n",
    "\n",
    "        cursor.execute(sql, data)\n",
    "        eda.commit()\n",
    "\n",
    "        #기록보기 < 클릭\n",
    "        driver.find_element(By.XPATH, '''//*[@id=\"cphContents_cphContents_cphContents_udpContent\"]/div[2]/div/div/a[1]''').click() \n",
    "        time.sleep(0.3)"
   ]
  },
  {
   "cell_type": "code",
   "execution_count": 344,
   "metadata": {},
   "outputs": [
    {
     "data": {
      "text/plain": [
       "18"
      ]
     },
     "execution_count": 344,
     "metadata": {},
     "output_type": "execute_result"
    }
   ],
   "source": [
    "page_source = driver.page_source\n",
    "soup = BeautifulSoup(page_source, \"html.parser\")\n",
    "\n",
    "        # 데이터 insert\n",
    "list = soup.find('tbody').find_all('tr')\n",
    "pitcher_data = soup.find('tbody').find_all('tr')\n",
    "\n",
    "len(pitcher_data[0].get_text().split())"
   ]
  },
  {
   "cell_type": "code",
   "execution_count": null,
   "metadata": {},
   "outputs": [],
   "source": [
    "y = 1\n",
    "#페이지 파싱\n",
    "page_source = driver.page_source\n",
    "soup = BeautifulSoup(page_source, \"html.parser\")\n",
    "list = soup.find('tbody').find_all('tr')\n",
    "\n",
    "if y == 1:\n",
    "        #페이지 파싱\n",
    "        page_source = driver.page_source\n",
    "        soup = BeautifulSoup(page_source, \"html.parser\")\n",
    "\n",
    "        # 데이터 insert\n",
    "        list = soup.find('tbody').find_all('tr')\n",
    "        pitcher_data = soup.find('tbody').find_all('tr')\n",
    "        \n",
    "\n",
    "        # IP 데이터 다른 경우 \n",
    "        if len(pitcher_data[1].get_text().split()) == 20:\n",
    "            pitcher_list = pitcher_data[i].get_text().split() \n",
    "            pitcher_list[9] = int(pitcher_data[1].get_text().split()[9])+round(int(pitcher_data[1].get_text().split()[10].split('/')[0])/int(pitcher_data[1].get_text().split()[10].split('/')[1]), 2)\n",
    "            pitcher_list.pop(10)\n",
    "            data = pitcher_list\n",
    "        else: \n",
    "            data = pitcher_data[i].get_text().split() \n",
    "\n",
    "        print(len(data))\n",
    "        print(data)\n",
    "        #기록보기 > 클릭\n",
    "        driver.find_element(By.XPATH, '''//*[@id=\"cphContents_cphContents_cphContents_udpContent\"]/div[2]/div/div/a[2]''').click() \n",
    "        time.sleep(0.3)\n",
    "\n",
    "        #페이지 파싱\n",
    "        page_source = driver.page_source\n",
    "        soup = BeautifulSoup(page_source, \"html.parser\")\n",
    "\n",
    "        # 데이터 insert\n",
    "        add_list = soup.find('tbody').find_all('tr')\n",
    "        add_pitcher_data = soup.find('tbody').find_all('tr')\n",
    "        #data에 1개씩 추가\n",
    "        for y in range(4,len(add_pitcher_data[i].get_text().split())):  #data에 1개씩 추가\n",
    "            data.append(add_pitcher_data[i].get_text().split()[y])\n",
    "        \n",
    "        print(len(data))\n",
    "        print(data)\n",
    "\n",
    "        cursor.execute(sql, data)\n",
    "        eda.commit()\n",
    "\n",
    "        #기록보기 < 클릭\n",
    "        driver.find_element(By.XPATH, '''//*[@id=\"cphContents_cphContents_cphContents_udpContent\"]/div[2]/div/div/a[1]''').click() \n",
    "        time.sleep(0.3)"
   ]
  },
  {
   "cell_type": "markdown",
   "metadata": {},
   "source": [
    "23년 데이터 insert"
   ]
  },
  {
   "cell_type": "code",
   "execution_count": 103,
   "metadata": {},
   "outputs": [],
   "source": [
    "cursor = eda.cursor(buffered=True)\n",
    "sql = '''insert into 기록실_선수기록_투수 values(%s,%s,%s,%s,%s,\n",
    "                                            %s,%s,%s,%s,%s,\n",
    "                                            %s,%s,%s,%s,%s,\n",
    "                                            %s,%s,%s,%s,%s,\n",
    "                                            %s,%s,%s,%s,%s,\n",
    "                                            %s,%s,%s,%s,%s,\n",
    "                                            %s,%s,%s,'23')'''\n",
    "\n",
    "#페이지 파싱\n",
    "page_source = driver.page_source\n",
    "soup = BeautifulSoup(page_source, \"html.parser\")\n",
    "list = soup.find('tbody').find_all('tr')\n",
    "\n",
    "for i in range(len(list)):        \n",
    "        #페이지 파싱\n",
    "        page_source = driver.page_source\n",
    "        soup = BeautifulSoup(page_source, \"html.parser\")\n",
    "\n",
    "        # 데이터 insert\n",
    "        list = soup.find('tbody').find_all('tr')\n",
    "        pitcher_data = soup.find('tbody').find_all('tr')\n",
    "        \n",
    "\n",
    "        # IP 데이터 다른 경우 \n",
    "        if len(pitcher_data[i].get_text().split()) == 20:\n",
    "            pitcher_list = pitcher_data[i].get_text().split() \n",
    "            pitcher_list[10] = int(pitcher_data[i].get_text().split()[10])+round(int(pitcher_data[i].get_text().split()[11].split('/')[0])/int(pitcher_data[i].get_text().split()[11].split('/')[1]), 2)\n",
    "            pitcher_list.pop(11)\n",
    "            data = pitcher_list\n",
    "        else: \n",
    "            data = pitcher_data[i].get_text().split() \n",
    "\n",
    "        #기록보기 > 클릭\n",
    "        driver.find_element(By.XPATH, '''//*[@id=\"cphContents_cphContents_cphContents_udpContent\"]/div[2]/div[2]/a[2]''').click() \n",
    "        time.sleep(0.3)\n",
    "\n",
    "        #페이지 파싱\n",
    "        page_source = driver.page_source\n",
    "        soup = BeautifulSoup(page_source, \"html.parser\")\n",
    "\n",
    "        # 데이터 insert\n",
    "        add_list = soup.find('tbody').find_all('tr')\n",
    "        add_pitcher_data = soup.find('tbody').find_all('tr')\n",
    "        #data에 1개씩 추가\n",
    "        for y in range(4,len(add_pitcher_data[i].get_text().split())):  #data에 1개씩 추가\n",
    "            data.append(add_pitcher_data[i].get_text().split()[y])\n",
    "        \n",
    "        cursor.execute(sql, data)\n",
    "        eda.commit()\n",
    "\n",
    "        #기록보기 < 클릭\n",
    "        driver.find_element(By.XPATH, '''//*[@id=\"cphContents_cphContents_cphContents_udpContent\"]/div[2]/div[2]/a[1]''').click() \n",
    "        time.sleep(0.3)\n"
   ]
  },
  {
   "cell_type": "markdown",
   "metadata": {},
   "source": [
    "22년 데이터 insert"
   ]
  },
  {
   "cell_type": "code",
   "execution_count": 104,
   "metadata": {},
   "outputs": [],
   "source": [
    "cursor = eda.cursor(buffered=True)\n",
    "sql = '''insert into 기록실_선수기록_투수 values(%s,%s,%s,%s,%s,\n",
    "                                            %s,%s,%s,%s,%s,\n",
    "                                            %s,%s,%s,%s,%s,\n",
    "                                            %s,%s,%s,%s,%s,\n",
    "                                            %s,%s,%s,%s,%s,\n",
    "                                            %s,%s,%s,%s,%s,\n",
    "                                            %s,%s,%s,'22')'''\n",
    "\n",
    "#페이지 파싱\n",
    "page_source = driver.page_source\n",
    "soup = BeautifulSoup(page_source, \"html.parser\")\n",
    "list = soup.find('tbody').find_all('tr')\n",
    "\n",
    "for i in range(len(list)):        \n",
    "        #페이지 파싱\n",
    "        page_source = driver.page_source\n",
    "        soup = BeautifulSoup(page_source, \"html.parser\")\n",
    "\n",
    "        # 데이터 insert\n",
    "        list = soup.find('tbody').find_all('tr')\n",
    "        pitcher_data = soup.find('tbody').find_all('tr')\n",
    "        \n",
    "\n",
    "        # IP 데이터 다른 경우 \n",
    "        if len(pitcher_data[i].get_text().split()) == 20:\n",
    "            pitcher_list = pitcher_data[i].get_text().split() \n",
    "            pitcher_list[10] = int(pitcher_data[i].get_text().split()[10])+round(int(pitcher_data[i].get_text().split()[11].split('/')[0])/int(pitcher_data[i].get_text().split()[11].split('/')[1]), 2)\n",
    "            pitcher_list.pop(11)\n",
    "            data = pitcher_list\n",
    "        else: \n",
    "            data = pitcher_data[i].get_text().split() \n",
    "\n",
    "        #기록보기 > 클릭\n",
    "        driver.find_element(By.XPATH, '''//*[@id=\"cphContents_cphContents_cphContents_udpContent\"]/div[2]/div[2]/a[2]''').click() \n",
    "        time.sleep(0.3)\n",
    "\n",
    "        #페이지 파싱\n",
    "        page_source = driver.page_source\n",
    "        soup = BeautifulSoup(page_source, \"html.parser\")\n",
    "\n",
    "        # 데이터 insert\n",
    "        add_list = soup.find('tbody').find_all('tr')\n",
    "        add_pitcher_data = soup.find('tbody').find_all('tr')\n",
    "        #data에 1개씩 추가\n",
    "        for y in range(4,len(add_pitcher_data[i].get_text().split())):  #data에 1개씩 추가\n",
    "            data.append(add_pitcher_data[i].get_text().split()[y])\n",
    "        \n",
    "        cursor.execute(sql, data)\n",
    "        eda.commit()\n",
    "\n",
    "        #기록보기 < 클릭\n",
    "        driver.find_element(By.XPATH, '''//*[@id=\"cphContents_cphContents_cphContents_udpContent\"]/div[2]/div[2]/a[1]''').click() \n",
    "        time.sleep(0.3)\n"
   ]
  },
  {
   "cell_type": "markdown",
   "metadata": {},
   "source": [
    "# 년도별 팀 순위"
   ]
  },
  {
   "cell_type": "code",
   "execution_count": 173,
   "metadata": {},
   "outputs": [],
   "source": [
    "driver = webdriver.Chrome(service=Service(\"/home/sh/dev_ws/driver/chromedriver\"))\n",
    "driver.get(\"https://www.koreabaseball.com/Record/TeamRank/TeamRank.aspx\")\n",
    "driver.implicitly_wait(10)\n",
    "\n",
    "driver.maximize_window() #화면 크게"
   ]
  },
  {
   "cell_type": "code",
   "execution_count": 174,
   "metadata": {},
   "outputs": [],
   "source": [
    "driver.find_element(By.XPATH, '''//*[@id=\"contents\"]/div[2]/div[2]/ul/li[2]/a''').click() # 연도별 클릭"
   ]
  },
  {
   "cell_type": "code",
   "execution_count": 175,
   "metadata": {},
   "outputs": [],
   "source": [
    "from bs4 import BeautifulSoup\n",
    "from urllib.request import urlopen\n",
    "from urllib.request import Request\n",
    "\n",
    "page_source = driver.page_source\n",
    "soup = BeautifulSoup(page_source, \"html.parser\")"
   ]
  },
  {
   "cell_type": "code",
   "execution_count": 176,
   "metadata": {},
   "outputs": [],
   "source": [
    "list = soup.find('tbody').find_all('tr')\n",
    "rank = soup.find('tbody').find_all('tr')"
   ]
  },
  {
   "cell_type": "code",
   "execution_count": 177,
   "metadata": {},
   "outputs": [
    {
     "data": {
      "text/plain": [
       "10"
      ]
     },
     "execution_count": 177,
     "metadata": {},
     "output_type": "execute_result"
    }
   ],
   "source": [
    "len(list)"
   ]
  },
  {
   "cell_type": "code",
   "execution_count": 186,
   "metadata": {},
   "outputs": [
    {
     "data": {
      "text/plain": [
       "['1', 'KIA', '80', '45', '33', '2', '0.577', '0', '4승1무5패', '3패']"
      ]
     },
     "execution_count": 186,
     "metadata": {},
     "output_type": "execute_result"
    }
   ],
   "source": [
    "rank[0].get_text().split()[0:10] #뒷 부분 사용 X"
   ]
  },
  {
   "cell_type": "code",
   "execution_count": 187,
   "metadata": {},
   "outputs": [],
   "source": [
    "import mysql.connector\n",
    "\n",
    "eda = mysql.connector.connect(\n",
    "    host = 'database-1.cnusogkkql3j.us-east-2.rds.amazonaws.com ',\n",
    "    user = 'EDA_project', \n",
    "    port = '3306',\n",
    "    password = '1234',\n",
    "    database = 'KBO'\n",
    ")"
   ]
  },
  {
   "cell_type": "code",
   "execution_count": 335,
   "metadata": {},
   "outputs": [],
   "source": [
    "eda.close()"
   ]
  },
  {
   "cell_type": "code",
   "execution_count": 188,
   "metadata": {},
   "outputs": [],
   "source": [
    "cur = eda.cursor()\n",
    "cur.execute('create table 연도별_팀순위 \\\n",
    "            (순위 int, 선수명 varchar(16), 경기 int, 승 int, 패 int, 무 int, 승률 float, 게임차 float, 최근10경기 varchar(16), 연속 varchar(16), year int)')"
   ]
  },
  {
   "cell_type": "code",
   "execution_count": 190,
   "metadata": {},
   "outputs": [],
   "source": [
    "cursor = eda.cursor(buffered=True)\n",
    "sql = '''insert into 연도별_팀순위 values(%s,%s,%s,%s,%s,\n",
    "                                       %s,%s,%s,%s,%s,\n",
    "                                       '24')'''"
   ]
  },
  {
   "cell_type": "code",
   "execution_count": 191,
   "metadata": {},
   "outputs": [],
   "source": [
    "for i in range(len(list)):\n",
    "    data = rank[i].get_text().split()[0:10]\n",
    "    cur.execute(sql, data)\n",
    "    eda.commit()"
   ]
  },
  {
   "cell_type": "markdown",
   "metadata": {},
   "source": [
    "24년도"
   ]
  },
  {
   "cell_type": "code",
   "execution_count": 199,
   "metadata": {},
   "outputs": [],
   "source": [
    "page_source = driver.page_source\n",
    "soup = BeautifulSoup(page_source, \"html.parser\")\n",
    "\n",
    "rank = soup.find('tbody').find_all('tr')\n",
    "\n",
    "cursor = eda.cursor(buffered=True)\n",
    "sql = '''insert into 연도별_팀순위 values (%s,%s,%s,%s,%s,\n",
    "                                       %s,%s,%s,%s,%s,\n",
    "                                       '24')'''\n",
    "for i in range(len(list)):\n",
    "    data = rank[i].get_text().split()[0:10]\n",
    "    cur.execute(sql, data)\n",
    "    eda.commit()"
   ]
  },
  {
   "cell_type": "markdown",
   "metadata": {},
   "source": [
    "23년도"
   ]
  },
  {
   "cell_type": "code",
   "execution_count": 200,
   "metadata": {},
   "outputs": [],
   "source": [
    "page_source = driver.page_source\n",
    "soup = BeautifulSoup(page_source, \"html.parser\")\n",
    "\n",
    "rank = soup.find('tbody').find_all('tr')\n",
    "\n",
    "\n",
    "cursor = eda.cursor(buffered=True)\n",
    "sql = '''insert into 연도별_팀순위 values (%s,%s,%s,%s,%s,\n",
    "                                       %s,%s,%s,%s,%s,\n",
    "                                       '23')'''\n",
    "for i in range(len(list)):\n",
    "    data = rank[i].get_text().split()[0:10]\n",
    "    cur.execute(sql, data)\n",
    "    eda.commit()"
   ]
  },
  {
   "cell_type": "markdown",
   "metadata": {},
   "source": [
    "22년도"
   ]
  },
  {
   "cell_type": "code",
   "execution_count": 201,
   "metadata": {},
   "outputs": [],
   "source": [
    "page_source = driver.page_source\n",
    "soup = BeautifulSoup(page_source, \"html.parser\")\n",
    "\n",
    "rank = soup.find('tbody').find_all('tr')\n",
    "\n",
    "cursor = eda.cursor(buffered=True)\n",
    "sql = '''insert into 연도별_팀순위 values (%s,%s,%s,%s,%s,\n",
    "                                       %s,%s,%s,%s,%s,\n",
    "                                       '22')'''\n",
    "for i in range(len(list)):\n",
    "    data = rank[i].get_text().split()[0:10]\n",
    "    cur.execute(sql, data)\n",
    "    eda.commit()"
   ]
  }
 ],
 "metadata": {
  "kernelspec": {
   "display_name": "eda_venv",
   "language": "python",
   "name": "python3"
  },
  "language_info": {
   "codemirror_mode": {
    "name": "ipython",
    "version": 3
   },
   "file_extension": ".py",
   "mimetype": "text/x-python",
   "name": "python",
   "nbconvert_exporter": "python",
   "pygments_lexer": "ipython3",
   "version": "3.10.12"
  }
 },
 "nbformat": 4,
 "nbformat_minor": 2
}
